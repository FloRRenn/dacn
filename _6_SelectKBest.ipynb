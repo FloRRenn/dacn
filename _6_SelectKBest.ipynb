{
  "cells": [
    {
      "cell_type": "code",
      "execution_count": 3,
      "metadata": {
        "id": "YndqfyjHlsWF"
      },
      "outputs": [],
      "source": [
        "import numpy as np\n",
        "import pandas as pd\n",
        "from sklearn.preprocessing import QuantileTransformer\n",
        "from sklearn.model_selection import train_test_split\n",
        "from sklearn.feature_selection import SelectKBest\n",
        "from sklearn.feature_selection import f_classif, chi2, mutual_info_classif\n",
        "from statsmodels.stats.outliers_influence import variance_inflation_factor"
      ]
    },
    {
      "cell_type": "code",
      "execution_count": 2,
      "metadata": {
        "colab": {
          "base_uri": "https://localhost:8080/"
        },
        "id": "tN-U2L2pmZY5",
        "outputId": "6d49e389-3792-4685-9a9d-57b19df6ea62"
      },
      "outputs": [
        {
          "name": "stdout",
          "output_type": "stream",
          "text": [
            "Mounted at /content/drive/\n"
          ]
        }
      ],
      "source": [
        "# from google.colab import drive\n",
        "# drive.mount('/content/drive/')"
      ]
    },
    {
      "cell_type": "code",
      "execution_count": 6,
      "metadata": {},
      "outputs": [],
      "source": [
        "def change_datatype(df):\n",
        "    int8_vals = np.iinfo(np.int8)\n",
        "    int16_vals = np.iinfo(np.int16)\n",
        "    int32_vals = np.iinfo(np.int32)\n",
        "\n",
        "    float16_vals = np.finfo(np.float16)\n",
        "    float32_vals = np.finfo(np.float32)\n",
        "    \n",
        "    for col in df.columns:\n",
        "        max_val = df[col].max()\n",
        "        min_val = df[col].min()\n",
        "\n",
        "        # print(f\"{col}: max {max_val} -- min {min_val}\")\n",
        "        \n",
        "        if df[col].dtype == np.int64:\n",
        "            if max_val <= int8_vals.max and min_val >= int8_vals.min:\n",
        "                df[col] = df[col].astype(np.int8)\n",
        "            elif max_val <= int16_vals.max and min_val >= int16_vals.min:\n",
        "                df[col] = df[col].astype(np.int16)\n",
        "            elif max_val <= int32_vals.max and min_val >= int32_vals.min:\n",
        "                df[col] = df[col].astype(np.int32)\n",
        "\n",
        "        elif df[col].dtype == np.float64:\n",
        "            if max_val <= float16_vals.max and min_val >= float16_vals.min:\n",
        "                df[col] = df[col].astype(np.float16)\n",
        "            elif max_val <= float32_vals.max and min_val >= float32_vals.min:\n",
        "                df[col] = df[col].astype(np.float32)\n",
        "    return df"
      ]
    },
    {
      "cell_type": "code",
      "execution_count": 8,
      "metadata": {
        "id": "FCPvYILCmkfx"
      },
      "outputs": [],
      "source": [
        "# csv_file = \"/content/drive/MyDrive/ColabNotebooks/IDS/small_first_preprocess.csv\"\n",
        "csv_train = \"./oversampling/NRAS_trainset.csv\"\n",
        "csv_test = \"./raw/raw_testset.csv\""
      ]
    },
    {
      "cell_type": "code",
      "execution_count": 9,
      "metadata": {
        "colab": {
          "base_uri": "https://localhost:8080/"
        },
        "id": "WBZS86jlmz3b",
        "outputId": "f36f49df-5067-48bb-9311-3c7d2e4c14ef"
      },
      "outputs": [],
      "source": [
        "train_df = pd.read_csv(csv_train)\n",
        "train_df = change_datatype(train_df)"
      ]
    },
    {
      "cell_type": "code",
      "execution_count": 17,
      "metadata": {},
      "outputs": [],
      "source": [
        "train_df = train_df.drop('Unnamed: 0', axis = 1)"
      ]
    },
    {
      "cell_type": "code",
      "execution_count": 13,
      "metadata": {},
      "outputs": [],
      "source": [
        "test_df = pd.read_csv(csv_test)\n",
        "test_df = change_datatype(test_df)"
      ]
    },
    {
      "cell_type": "code",
      "execution_count": 18,
      "metadata": {
        "colab": {
          "base_uri": "https://localhost:8080/",
          "height": 444
        },
        "id": "uNfmuFCinCHs",
        "outputId": "23bf13e6-1e0e-4b28-c557-485662c1c9c3"
      },
      "outputs": [
        {
          "name": "stdout",
          "output_type": "stream",
          "text": [
            "<class 'pandas.core.frame.DataFrame'>\n",
            "RangeIndex: 9539966 entries, 0 to 9539965\n",
            "Data columns (total 69 columns):\n",
            " #   Column                       Dtype  \n",
            "---  ------                       -----  \n",
            " 0   destination_port             float32\n",
            " 1   flow_duration                float32\n",
            " 2   total_fwd_packets            float32\n",
            " 3   total_backward_packets       float32\n",
            " 4   total_length_of_fwd_packets  float32\n",
            " 5   total_length_of_bwd_packets  float32\n",
            " 6   fwd_packet_length_max        float16\n",
            " 7   fwd_packet_length_min        float16\n",
            " 8   fwd_packet_length_mean       float16\n",
            " 9   fwd_packet_length_std        float16\n",
            " 10  bwd_packet_length_max        float16\n",
            " 11  bwd_packet_length_min        float16\n",
            " 12  bwd_packet_length_mean       float16\n",
            " 13  bwd_packet_length_std        float16\n",
            " 14  flow_bytes_s                 float32\n",
            " 15  flow_packets_s               float32\n",
            " 16  flow_iat_mean                float32\n",
            " 17  flow_iat_std                 float32\n",
            " 18  flow_iat_max                 float32\n",
            " 19  flow_iat_min                 float32\n",
            " 20  fwd_iat_total                float32\n",
            " 21  fwd_iat_mean                 float32\n",
            " 22  fwd_iat_std                  float32\n",
            " 23  fwd_iat_max                  float32\n",
            " 24  fwd_iat_min                  float32\n",
            " 25  bwd_iat_total                float32\n",
            " 26  bwd_iat_mean                 float32\n",
            " 27  bwd_iat_std                  float32\n",
            " 28  bwd_iat_max                  float32\n",
            " 29  bwd_iat_min                  float32\n",
            " 30  fwd_psh_flags                float16\n",
            " 31  fwd_urg_flags                float16\n",
            " 32  bwd_header_length            float32\n",
            " 33  fwd_packets_s                float32\n",
            " 34  bwd_packets_s                float32\n",
            " 35  min_packet_length            float16\n",
            " 36  max_packet_length            float16\n",
            " 37  packet_length_mean           float16\n",
            " 38  packet_length_std            float16\n",
            " 39  packet_length_variance       float32\n",
            " 40  fin_flag_count               float16\n",
            " 41  syn_flag_count               float16\n",
            " 42  rst_flag_count               float16\n",
            " 43  psh_flag_count               float16\n",
            " 44  ack_flag_count               float16\n",
            " 45  urg_flag_count               float16\n",
            " 46  cwe_flag_count               float16\n",
            " 47  ece_flag_count               float16\n",
            " 48  down_up_ratio                float16\n",
            " 49  average_packet_size          float16\n",
            " 50  avg_fwd_segment_size         float16\n",
            " 51  avg_bwd_segment_size         float16\n",
            " 52  subflow_fwd_packets          float32\n",
            " 53  subflow_fwd_bytes            float32\n",
            " 54  subflow_bwd_packets          float32\n",
            " 55  subflow_bwd_bytes            float32\n",
            " 56  init_win_bytes_forward       float32\n",
            " 57  init_win_bytes_backward      float32\n",
            " 58  act_data_pkt_fwd             float32\n",
            " 59  min_seg_size_forward         float32\n",
            " 60  active_mean                  float32\n",
            " 61  active_std                   float32\n",
            " 62  active_max                   float32\n",
            " 63  active_min                   float32\n",
            " 64  idle_mean                    float32\n",
            " 65  idle_std                     float32\n",
            " 66  idle_max                     float32\n",
            " 67  idle_min                     float32\n",
            " 68  label                        int8   \n",
            "dtypes: float16(26), float32(42), int8(1)\n",
            "memory usage: 2.0 GB\n"
          ]
        }
      ],
      "source": [
        "train_df.info()"
      ]
    },
    {
      "cell_type": "code",
      "execution_count": 14,
      "metadata": {},
      "outputs": [
        {
          "name": "stdout",
          "output_type": "stream",
          "text": [
            "<class 'pandas.core.frame.DataFrame'>\n",
            "RangeIndex: 756690 entries, 0 to 756689\n",
            "Data columns (total 69 columns):\n",
            " #   Column                       Non-Null Count   Dtype  \n",
            "---  ------                       --------------   -----  \n",
            " 0   destination_port             756690 non-null  int32  \n",
            " 1   flow_duration                756690 non-null  int32  \n",
            " 2   total_fwd_packets            756690 non-null  int32  \n",
            " 3   total_backward_packets       756690 non-null  int32  \n",
            " 4   total_length_of_fwd_packets  756690 non-null  int32  \n",
            " 5   total_length_of_bwd_packets  756690 non-null  int32  \n",
            " 6   fwd_packet_length_max        756690 non-null  int16  \n",
            " 7   fwd_packet_length_min        756690 non-null  int16  \n",
            " 8   fwd_packet_length_mean       756690 non-null  float16\n",
            " 9   fwd_packet_length_std        756690 non-null  float16\n",
            " 10  bwd_packet_length_max        756690 non-null  int16  \n",
            " 11  bwd_packet_length_min        756690 non-null  int16  \n",
            " 12  bwd_packet_length_mean       756690 non-null  float16\n",
            " 13  bwd_packet_length_std        756690 non-null  float16\n",
            " 14  flow_bytes_s                 756690 non-null  float32\n",
            " 15  flow_packets_s               756690 non-null  float32\n",
            " 16  flow_iat_mean                756690 non-null  float32\n",
            " 17  flow_iat_std                 756690 non-null  float32\n",
            " 18  flow_iat_max                 756690 non-null  int32  \n",
            " 19  flow_iat_min                 756690 non-null  int32  \n",
            " 20  fwd_iat_total                756690 non-null  int32  \n",
            " 21  fwd_iat_mean                 756690 non-null  float32\n",
            " 22  fwd_iat_std                  756690 non-null  float32\n",
            " 23  fwd_iat_max                  756690 non-null  int32  \n",
            " 24  fwd_iat_min                  756690 non-null  int32  \n",
            " 25  bwd_iat_total                756690 non-null  int32  \n",
            " 26  bwd_iat_mean                 756690 non-null  float32\n",
            " 27  bwd_iat_std                  756690 non-null  float32\n",
            " 28  bwd_iat_max                  756690 non-null  int32  \n",
            " 29  bwd_iat_min                  756690 non-null  int32  \n",
            " 30  fwd_psh_flags                756690 non-null  int8   \n",
            " 31  fwd_urg_flags                756690 non-null  int8   \n",
            " 32  bwd_header_length            756690 non-null  int32  \n",
            " 33  fwd_packets_s                756690 non-null  float32\n",
            " 34  bwd_packets_s                756690 non-null  float32\n",
            " 35  min_packet_length            756690 non-null  int16  \n",
            " 36  max_packet_length            756690 non-null  int16  \n",
            " 37  packet_length_mean           756690 non-null  float16\n",
            " 38  packet_length_std            756690 non-null  float16\n",
            " 39  packet_length_variance       756690 non-null  float32\n",
            " 40  fin_flag_count               756690 non-null  int8   \n",
            " 41  syn_flag_count               756690 non-null  int8   \n",
            " 42  rst_flag_count               756690 non-null  int8   \n",
            " 43  psh_flag_count               756690 non-null  int8   \n",
            " 44  ack_flag_count               756690 non-null  int8   \n",
            " 45  urg_flag_count               756690 non-null  int8   \n",
            " 46  cwe_flag_count               756690 non-null  int8   \n",
            " 47  ece_flag_count               756690 non-null  int8   \n",
            " 48  down_up_ratio                756690 non-null  int8   \n",
            " 49  average_packet_size          756690 non-null  float16\n",
            " 50  avg_fwd_segment_size         756690 non-null  float16\n",
            " 51  avg_bwd_segment_size         756690 non-null  float16\n",
            " 52  subflow_fwd_packets          756690 non-null  int32  \n",
            " 53  subflow_fwd_bytes            756690 non-null  int32  \n",
            " 54  subflow_bwd_packets          756690 non-null  int32  \n",
            " 55  subflow_bwd_bytes            756690 non-null  int32  \n",
            " 56  init_win_bytes_forward       756690 non-null  int32  \n",
            " 57  init_win_bytes_backward      756690 non-null  int32  \n",
            " 58  act_data_pkt_fwd             756690 non-null  int32  \n",
            " 59  min_seg_size_forward         756690 non-null  int32  \n",
            " 60  active_mean                  756690 non-null  float32\n",
            " 61  active_std                   756690 non-null  float32\n",
            " 62  active_max                   756690 non-null  int32  \n",
            " 63  active_min                   756690 non-null  int32  \n",
            " 64  idle_mean                    756690 non-null  float32\n",
            " 65  idle_std                     756690 non-null  float32\n",
            " 66  idle_max                     756690 non-null  int32  \n",
            " 67  idle_min                     756690 non-null  int32  \n",
            " 68  label                        756690 non-null  int8   \n",
            "dtypes: float16(9), float32(15), int16(6), int32(27), int8(12)\n",
            "memory usage: 151.5 MB\n"
          ]
        }
      ],
      "source": [
        "test_df.info()"
      ]
    },
    {
      "cell_type": "code",
      "execution_count": 19,
      "metadata": {
        "id": "3tVGXcTgp-PO"
      },
      "outputs": [],
      "source": [
        "X_train = train_df.drop('label', axis = 1)\n",
        "y_train = train_df['label']\n",
        "\n",
        "X_test = test_df.drop('label', axis = 1)\n",
        "y_test = test_df['label']"
      ]
    },
    {
      "cell_type": "code",
      "execution_count": 20,
      "metadata": {
        "colab": {
          "base_uri": "https://localhost:8080/"
        },
        "id": "QonMTsL-qPzB",
        "outputId": "83aa4d15-363c-4dec-9c25-b5522933837b"
      },
      "outputs": [
        {
          "name": "stdout",
          "output_type": "stream",
          "text": [
            "(9539966, 68) (9539966,)\n",
            "(756690, 68) (756690,)\n"
          ]
        }
      ],
      "source": [
        "print(X_train.shape, y_train.shape)\n",
        "print(X_test.shape, y_test.shape)"
      ]
    },
    {
      "cell_type": "markdown",
      "metadata": {
        "id": "eL2UIbmNp4V8"
      },
      "source": [
        "#### Scaler"
      ]
    },
    {
      "cell_type": "code",
      "execution_count": 21,
      "metadata": {
        "id": "AmcODiwinQLP"
      },
      "outputs": [],
      "source": [
        "scaler = QuantileTransformer(\n",
        "       n_quantiles = 10000,\n",
        "       random_state = 6969,\n",
        "       output_distribution = \"uniform\"\n",
        ")"
      ]
    },
    {
      "cell_type": "code",
      "execution_count": 22,
      "metadata": {
        "id": "e4-aB-TLqf6i"
      },
      "outputs": [],
      "source": [
        "X_train_scaler = scaler.fit_transform(X_train)"
      ]
    },
    {
      "cell_type": "code",
      "execution_count": 23,
      "metadata": {
        "id": "4o9iU0mZqsof"
      },
      "outputs": [],
      "source": [
        "X_test_scaler = scaler.transform(X_test)"
      ]
    },
    {
      "cell_type": "code",
      "execution_count": 28,
      "metadata": {
        "id": "9zCKYKXv9q_2"
      },
      "outputs": [],
      "source": [
        "scaling_df = pd.DataFrame(X_train_scaler, columns = train_df.columns[:-1])"
      ]
    },
    {
      "cell_type": "markdown",
      "metadata": {
        "id": "QnI-9UBsrDiY"
      },
      "source": [
        "#### Feature Selection"
      ]
    },
    {
      "cell_type": "code",
      "execution_count": 25,
      "metadata": {
        "id": "eOJObVcTrHCN"
      },
      "outputs": [],
      "source": [
        "fs = SelectKBest(score_func = chi2, k = 40)\n",
        "X_selected = fs.fit_transform(X_train_scaler, y_train)"
      ]
    },
    {
      "cell_type": "code",
      "execution_count": 26,
      "metadata": {
        "id": "0YY-AhBZwN1W"
      },
      "outputs": [],
      "source": [
        "best_features_chi2 = fs.transform(X_train_scaler)"
      ]
    },
    {
      "cell_type": "code",
      "execution_count": 29,
      "metadata": {
        "id": "mttemPR3BY3g"
      },
      "outputs": [],
      "source": [
        "mask = fs.get_support()\n",
        "best_features = scaling_df.columns[mask]"
      ]
    },
    {
      "cell_type": "code",
      "execution_count": 30,
      "metadata": {
        "id": "oCxaM4sjtBdr"
      },
      "outputs": [],
      "source": [
        "vif = pd.DataFrame()\n",
        "vif[\"Feature\"] = best_features"
      ]
    },
    {
      "cell_type": "code",
      "execution_count": 31,
      "metadata": {
        "id": "LD862Vng-8Tm"
      },
      "outputs": [],
      "source": [
        "vif[\"VIF\"] = [variance_inflation_factor(X_selected, i) for i in range(X_selected.shape[1])]"
      ]
    },
    {
      "cell_type": "code",
      "execution_count": 32,
      "metadata": {
        "colab": {
          "base_uri": "https://localhost:8080/",
          "height": 1000
        },
        "id": "qkpauAVREOZq",
        "outputId": "ad19e555-75bc-4642-fdac-552003daf6d8"
      },
      "outputs": [
        {
          "data": {
            "text/html": [
              "<div>\n",
              "<style scoped>\n",
              "    .dataframe tbody tr th:only-of-type {\n",
              "        vertical-align: middle;\n",
              "    }\n",
              "\n",
              "    .dataframe tbody tr th {\n",
              "        vertical-align: top;\n",
              "    }\n",
              "\n",
              "    .dataframe thead th {\n",
              "        text-align: right;\n",
              "    }\n",
              "</style>\n",
              "<table border=\"1\" class=\"dataframe\">\n",
              "  <thead>\n",
              "    <tr style=\"text-align: right;\">\n",
              "      <th></th>\n",
              "      <th>Feature</th>\n",
              "      <th>VIF</th>\n",
              "    </tr>\n",
              "  </thead>\n",
              "  <tbody>\n",
              "    <tr>\n",
              "      <th>0</th>\n",
              "      <td>destination_port</td>\n",
              "      <td>1.738357e+01</td>\n",
              "    </tr>\n",
              "    <tr>\n",
              "      <th>1</th>\n",
              "      <td>flow_duration</td>\n",
              "      <td>2.806028e+01</td>\n",
              "    </tr>\n",
              "    <tr>\n",
              "      <th>2</th>\n",
              "      <td>total_fwd_packets</td>\n",
              "      <td>8.628924e+04</td>\n",
              "    </tr>\n",
              "    <tr>\n",
              "      <th>3</th>\n",
              "      <td>total_length_of_fwd_packets</td>\n",
              "      <td>1.747666e+05</td>\n",
              "    </tr>\n",
              "    <tr>\n",
              "      <th>4</th>\n",
              "      <td>fwd_packet_length_max</td>\n",
              "      <td>1.187234e+02</td>\n",
              "    </tr>\n",
              "    <tr>\n",
              "      <th>5</th>\n",
              "      <td>fwd_packet_length_min</td>\n",
              "      <td>8.597692e+01</td>\n",
              "    </tr>\n",
              "    <tr>\n",
              "      <th>6</th>\n",
              "      <td>fwd_packet_length_std</td>\n",
              "      <td>9.904196e+01</td>\n",
              "    </tr>\n",
              "    <tr>\n",
              "      <th>7</th>\n",
              "      <td>bwd_packet_length_min</td>\n",
              "      <td>2.709571e+00</td>\n",
              "    </tr>\n",
              "    <tr>\n",
              "      <th>8</th>\n",
              "      <td>bwd_packet_length_std</td>\n",
              "      <td>4.037310e+01</td>\n",
              "    </tr>\n",
              "    <tr>\n",
              "      <th>9</th>\n",
              "      <td>flow_iat_std</td>\n",
              "      <td>3.590811e+01</td>\n",
              "    </tr>\n",
              "    <tr>\n",
              "      <th>10</th>\n",
              "      <td>fwd_iat_total</td>\n",
              "      <td>6.401845e+02</td>\n",
              "    </tr>\n",
              "    <tr>\n",
              "      <th>11</th>\n",
              "      <td>fwd_iat_std</td>\n",
              "      <td>7.463833e+01</td>\n",
              "    </tr>\n",
              "    <tr>\n",
              "      <th>12</th>\n",
              "      <td>fwd_iat_max</td>\n",
              "      <td>4.074374e+02</td>\n",
              "    </tr>\n",
              "    <tr>\n",
              "      <th>13</th>\n",
              "      <td>bwd_iat_total</td>\n",
              "      <td>2.136442e+01</td>\n",
              "    </tr>\n",
              "    <tr>\n",
              "      <th>14</th>\n",
              "      <td>bwd_iat_mean</td>\n",
              "      <td>5.138295e+02</td>\n",
              "    </tr>\n",
              "    <tr>\n",
              "      <th>15</th>\n",
              "      <td>bwd_iat_std</td>\n",
              "      <td>1.337265e+02</td>\n",
              "    </tr>\n",
              "    <tr>\n",
              "      <th>16</th>\n",
              "      <td>bwd_iat_max</td>\n",
              "      <td>9.902127e+02</td>\n",
              "    </tr>\n",
              "    <tr>\n",
              "      <th>17</th>\n",
              "      <td>bwd_iat_min</td>\n",
              "      <td>4.490220e+01</td>\n",
              "    </tr>\n",
              "    <tr>\n",
              "      <th>18</th>\n",
              "      <td>fwd_psh_flags</td>\n",
              "      <td>3.632975e+10</td>\n",
              "    </tr>\n",
              "    <tr>\n",
              "      <th>19</th>\n",
              "      <td>min_packet_length</td>\n",
              "      <td>5.684915e+01</td>\n",
              "    </tr>\n",
              "    <tr>\n",
              "      <th>20</th>\n",
              "      <td>max_packet_length</td>\n",
              "      <td>1.707830e+01</td>\n",
              "    </tr>\n",
              "    <tr>\n",
              "      <th>21</th>\n",
              "      <td>packet_length_mean</td>\n",
              "      <td>1.160081e+03</td>\n",
              "    </tr>\n",
              "    <tr>\n",
              "      <th>22</th>\n",
              "      <td>fin_flag_count</td>\n",
              "      <td>4.812157e-01</td>\n",
              "    </tr>\n",
              "    <tr>\n",
              "      <th>23</th>\n",
              "      <td>syn_flag_count</td>\n",
              "      <td>3.621188e+10</td>\n",
              "    </tr>\n",
              "    <tr>\n",
              "      <th>24</th>\n",
              "      <td>psh_flag_count</td>\n",
              "      <td>2.694944e+01</td>\n",
              "    </tr>\n",
              "    <tr>\n",
              "      <th>25</th>\n",
              "      <td>ack_flag_count</td>\n",
              "      <td>1.137230e+01</td>\n",
              "    </tr>\n",
              "    <tr>\n",
              "      <th>26</th>\n",
              "      <td>urg_flag_count</td>\n",
              "      <td>3.251409e-01</td>\n",
              "    </tr>\n",
              "    <tr>\n",
              "      <th>27</th>\n",
              "      <td>down_up_ratio</td>\n",
              "      <td>3.635044e-01</td>\n",
              "    </tr>\n",
              "    <tr>\n",
              "      <th>28</th>\n",
              "      <td>average_packet_size</td>\n",
              "      <td>5.577986e+00</td>\n",
              "    </tr>\n",
              "    <tr>\n",
              "      <th>29</th>\n",
              "      <td>subflow_fwd_packets</td>\n",
              "      <td>2.114144e+03</td>\n",
              "    </tr>\n",
              "    <tr>\n",
              "      <th>30</th>\n",
              "      <td>subflow_fwd_bytes</td>\n",
              "      <td>3.726639e+04</td>\n",
              "    </tr>\n",
              "    <tr>\n",
              "      <th>31</th>\n",
              "      <td>act_data_pkt_fwd</td>\n",
              "      <td>5.256139e+00</td>\n",
              "    </tr>\n",
              "    <tr>\n",
              "      <th>32</th>\n",
              "      <td>active_mean</td>\n",
              "      <td>3.090475e+03</td>\n",
              "    </tr>\n",
              "    <tr>\n",
              "      <th>33</th>\n",
              "      <td>active_std</td>\n",
              "      <td>2.027581e+01</td>\n",
              "    </tr>\n",
              "    <tr>\n",
              "      <th>34</th>\n",
              "      <td>active_max</td>\n",
              "      <td>2.759199e+03</td>\n",
              "    </tr>\n",
              "    <tr>\n",
              "      <th>35</th>\n",
              "      <td>active_min</td>\n",
              "      <td>1.816731e+03</td>\n",
              "    </tr>\n",
              "    <tr>\n",
              "      <th>36</th>\n",
              "      <td>idle_mean</td>\n",
              "      <td>8.429049e+01</td>\n",
              "    </tr>\n",
              "    <tr>\n",
              "      <th>37</th>\n",
              "      <td>idle_std</td>\n",
              "      <td>4.478789e+01</td>\n",
              "    </tr>\n",
              "    <tr>\n",
              "      <th>38</th>\n",
              "      <td>idle_max</td>\n",
              "      <td>3.791815e+01</td>\n",
              "    </tr>\n",
              "    <tr>\n",
              "      <th>39</th>\n",
              "      <td>idle_min</td>\n",
              "      <td>2.945568e+03</td>\n",
              "    </tr>\n",
              "  </tbody>\n",
              "</table>\n",
              "</div>"
            ],
            "text/plain": [
              "                        Feature           VIF\n",
              "0              destination_port  1.738357e+01\n",
              "1                 flow_duration  2.806028e+01\n",
              "2             total_fwd_packets  8.628924e+04\n",
              "3   total_length_of_fwd_packets  1.747666e+05\n",
              "4         fwd_packet_length_max  1.187234e+02\n",
              "5         fwd_packet_length_min  8.597692e+01\n",
              "6         fwd_packet_length_std  9.904196e+01\n",
              "7         bwd_packet_length_min  2.709571e+00\n",
              "8         bwd_packet_length_std  4.037310e+01\n",
              "9                  flow_iat_std  3.590811e+01\n",
              "10                fwd_iat_total  6.401845e+02\n",
              "11                  fwd_iat_std  7.463833e+01\n",
              "12                  fwd_iat_max  4.074374e+02\n",
              "13                bwd_iat_total  2.136442e+01\n",
              "14                 bwd_iat_mean  5.138295e+02\n",
              "15                  bwd_iat_std  1.337265e+02\n",
              "16                  bwd_iat_max  9.902127e+02\n",
              "17                  bwd_iat_min  4.490220e+01\n",
              "18                fwd_psh_flags  3.632975e+10\n",
              "19            min_packet_length  5.684915e+01\n",
              "20            max_packet_length  1.707830e+01\n",
              "21           packet_length_mean  1.160081e+03\n",
              "22               fin_flag_count  4.812157e-01\n",
              "23               syn_flag_count  3.621188e+10\n",
              "24               psh_flag_count  2.694944e+01\n",
              "25               ack_flag_count  1.137230e+01\n",
              "26               urg_flag_count  3.251409e-01\n",
              "27                down_up_ratio  3.635044e-01\n",
              "28          average_packet_size  5.577986e+00\n",
              "29          subflow_fwd_packets  2.114144e+03\n",
              "30            subflow_fwd_bytes  3.726639e+04\n",
              "31             act_data_pkt_fwd  5.256139e+00\n",
              "32                  active_mean  3.090475e+03\n",
              "33                   active_std  2.027581e+01\n",
              "34                   active_max  2.759199e+03\n",
              "35                   active_min  1.816731e+03\n",
              "36                    idle_mean  8.429049e+01\n",
              "37                     idle_std  4.478789e+01\n",
              "38                     idle_max  3.791815e+01\n",
              "39                     idle_min  2.945568e+03"
            ]
          },
          "execution_count": 32,
          "metadata": {},
          "output_type": "execute_result"
        }
      ],
      "source": [
        "vif"
      ]
    },
    {
      "cell_type": "code",
      "execution_count": 33,
      "metadata": {
        "id": "vzCI2VVqEPzu"
      },
      "outputs": [],
      "source": [
        "vif_threshold = 40"
      ]
    },
    {
      "cell_type": "code",
      "execution_count": 34,
      "metadata": {
        "id": "lvmSpfwYEShA"
      },
      "outputs": [],
      "source": [
        "selected_features = vif[vif['VIF'] < vif_threshold]['Feature']"
      ]
    },
    {
      "cell_type": "code",
      "execution_count": 35,
      "metadata": {
        "colab": {
          "base_uri": "https://localhost:8080/"
        },
        "id": "WZrNtCvzEZ8I",
        "outputId": "9affd3e1-aea6-4665-f311-10a1ee9b914e"
      },
      "outputs": [
        {
          "data": {
            "text/plain": [
              "0          destination_port\n",
              "1             flow_duration\n",
              "7     bwd_packet_length_min\n",
              "9              flow_iat_std\n",
              "13            bwd_iat_total\n",
              "20        max_packet_length\n",
              "22           fin_flag_count\n",
              "24           psh_flag_count\n",
              "25           ack_flag_count\n",
              "26           urg_flag_count\n",
              "27            down_up_ratio\n",
              "28      average_packet_size\n",
              "31         act_data_pkt_fwd\n",
              "33               active_std\n",
              "38                 idle_max\n",
              "Name: Feature, dtype: object"
            ]
          },
          "execution_count": 35,
          "metadata": {},
          "output_type": "execute_result"
        }
      ],
      "source": [
        "selected_features"
      ]
    }
  ],
  "metadata": {
    "colab": {
      "provenance": []
    },
    "kernelspec": {
      "display_name": "Python 3",
      "name": "python3"
    },
    "language_info": {
      "codemirror_mode": {
        "name": "ipython",
        "version": 3
      },
      "file_extension": ".py",
      "mimetype": "text/x-python",
      "name": "python",
      "nbconvert_exporter": "python",
      "pygments_lexer": "ipython3",
      "version": "3.10.11"
    }
  },
  "nbformat": 4,
  "nbformat_minor": 0
}
