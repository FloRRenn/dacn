{
 "cells": [
  {
   "cell_type": "code",
   "execution_count": 1,
   "metadata": {},
   "outputs": [],
   "source": [
    "import pandas as pd\n",
    "import numpy as np"
   ]
  },
  {
   "cell_type": "code",
   "execution_count": 2,
   "metadata": {},
   "outputs": [],
   "source": [
    "import tensorflow as tf\n",
    "from tensorflow.keras import regularizers, Input\n",
    "from tensorflow.keras.models import Sequential\n",
    "from tensorflow.keras.layers import Dense, LeakyReLU, BatchNormalization, Dropout\n",
    "from tensorflow.keras.optimizers import Adam\n",
    "from tensorflow.keras.callbacks import Callback, ModelCheckpoint, ReduceLROnPlateau, CSVLogger, EarlyStopping\n",
    "from tensorflow.keras.metrics import Precision, Recall\n",
    "\n",
    "from sklearn.preprocessing import QuantileTransformer\n",
    "from sklearn.metrics import precision_score, recall_score"
   ]
  },
  {
   "cell_type": "code",
   "execution_count": 3,
   "metadata": {},
   "outputs": [],
   "source": [
    "import gc"
   ]
  },
  {
   "cell_type": "code",
   "execution_count": 4,
   "metadata": {},
   "outputs": [],
   "source": [
    "from load_data import LoadDataset"
   ]
  },
  {
   "cell_type": "code",
   "execution_count": 5,
   "metadata": {},
   "outputs": [],
   "source": [
    "scaler = QuantileTransformer(\n",
    "       n_quantiles = 10000,\n",
    "       random_state = 6969,\n",
    "       output_distribution = \"uniform\"\n",
    ")"
   ]
  },
  {
   "cell_type": "markdown",
   "metadata": {},
   "source": [
    "## Without Sampling"
   ]
  },
  {
   "cell_type": "code",
   "execution_count": 5,
   "metadata": {},
   "outputs": [],
   "source": [
    "df_train = LoadDataset(\"./raw/raw_trainset.csv\")\n",
    "df_test = LoadDataset(\"./raw/raw_testset.csv\")"
   ]
  },
  {
   "cell_type": "code",
   "execution_count": 6,
   "metadata": {},
   "outputs": [
    {
     "name": "stdout",
     "output_type": "stream",
     "text": [
      "<class 'pandas.core.frame.DataFrame'>\n",
      "RangeIndex: 1765609 entries, 0 to 1765608\n",
      "Data columns (total 69 columns):\n",
      " #   Column                       Dtype  \n",
      "---  ------                       -----  \n",
      " 0   destination_port             int32  \n",
      " 1   flow_duration                int32  \n",
      " 2   total_fwd_packets            int32  \n",
      " 3   total_backward_packets       int32  \n",
      " 4   total_length_of_fwd_packets  int32  \n",
      " 5   total_length_of_bwd_packets  int32  \n",
      " 6   fwd_packet_length_max        int16  \n",
      " 7   fwd_packet_length_min        int16  \n",
      " 8   fwd_packet_length_mean       float16\n",
      " 9   fwd_packet_length_std        float16\n",
      " 10  bwd_packet_length_max        int16  \n",
      " 11  bwd_packet_length_min        int16  \n",
      " 12  bwd_packet_length_mean       float16\n",
      " 13  bwd_packet_length_std        float16\n",
      " 14  flow_bytes_s                 float32\n",
      " 15  flow_packets_s               float32\n",
      " 16  flow_iat_mean                float32\n",
      " 17  flow_iat_std                 float32\n",
      " 18  flow_iat_max                 int32  \n",
      " 19  flow_iat_min                 int32  \n",
      " 20  fwd_iat_total                int32  \n",
      " 21  fwd_iat_mean                 float32\n",
      " 22  fwd_iat_std                  float32\n",
      " 23  fwd_iat_max                  int32  \n",
      " 24  fwd_iat_min                  int32  \n",
      " 25  bwd_iat_total                int32  \n",
      " 26  bwd_iat_mean                 float32\n",
      " 27  bwd_iat_std                  float32\n",
      " 28  bwd_iat_max                  int32  \n",
      " 29  bwd_iat_min                  int32  \n",
      " 30  fwd_psh_flags                int8   \n",
      " 31  fwd_urg_flags                int8   \n",
      " 32  bwd_header_length            int32  \n",
      " 33  fwd_packets_s                float32\n",
      " 34  bwd_packets_s                float32\n",
      " 35  min_packet_length            int16  \n",
      " 36  max_packet_length            int16  \n",
      " 37  packet_length_mean           float16\n",
      " 38  packet_length_std            float16\n",
      " 39  packet_length_variance       float32\n",
      " 40  fin_flag_count               int8   \n",
      " 41  syn_flag_count               int8   \n",
      " 42  rst_flag_count               int8   \n",
      " 43  psh_flag_count               int8   \n",
      " 44  ack_flag_count               int8   \n",
      " 45  urg_flag_count               int8   \n",
      " 46  cwe_flag_count               int8   \n",
      " 47  ece_flag_count               int8   \n",
      " 48  down_up_ratio                int16  \n",
      " 49  average_packet_size          float16\n",
      " 50  avg_fwd_segment_size         float16\n",
      " 51  avg_bwd_segment_size         float16\n",
      " 52  subflow_fwd_packets          int32  \n",
      " 53  subflow_fwd_bytes            int32  \n",
      " 54  subflow_bwd_packets          int32  \n",
      " 55  subflow_bwd_bytes            int32  \n",
      " 56  init_win_bytes_forward       int32  \n",
      " 57  init_win_bytes_backward      int32  \n",
      " 58  act_data_pkt_fwd             int32  \n",
      " 59  min_seg_size_forward         int32  \n",
      " 60  active_mean                  float32\n",
      " 61  active_std                   float32\n",
      " 62  active_max                   int32  \n",
      " 63  active_min                   int32  \n",
      " 64  idle_mean                    float32\n",
      " 65  idle_std                     float32\n",
      " 66  idle_max                     int32  \n",
      " 67  idle_min                     int32  \n",
      " 68  label                        int8   \n",
      "dtypes: float16(9), float32(15), int16(7), int32(27), int8(11)\n",
      "memory usage: 355.3 MB\n"
     ]
    }
   ],
   "source": [
    "df_train.DataFrame.info()"
   ]
  },
  {
   "cell_type": "code",
   "execution_count": 7,
   "metadata": {},
   "outputs": [
    {
     "data": {
      "text/plain": [
       "(1765609, 69)"
      ]
     },
     "execution_count": 7,
     "metadata": {},
     "output_type": "execute_result"
    }
   ],
   "source": [
    "df_train.DataFrame.shape"
   ]
  },
  {
   "cell_type": "code",
   "execution_count": 8,
   "metadata": {},
   "outputs": [
    {
     "data": {
      "text/plain": [
       "(756690, 69)"
      ]
     },
     "execution_count": 8,
     "metadata": {},
     "output_type": "execute_result"
    }
   ],
   "source": [
    "df_test.DataFrame.shape"
   ]
  },
  {
   "cell_type": "code",
   "execution_count": 10,
   "metadata": {},
   "outputs": [],
   "source": [
    "selected_features = ['destination_port',\n",
    "            'init_win_bytes_backward',\n",
    "            'init_win_bytes_forward',\n",
    "            'bwd_packets_s',\n",
    "            'fwd_iat_min',\n",
    "            'min_seg_size_forward',\n",
    "            'flow_iat_min',\n",
    "            'flow_duration',\n",
    "            'total_length_of_fwd_packets',\n",
    "            'total_backward_packets',\n",
    "            'bwd_iat_min',\n",
    "            'bwd_packet_length_std',\n",
    "            'fwd_iat_total',\n",
    "            'fwd_packet_length_mean',\n",
    "            'fwd_packet_length_max',\n",
    "            'flow_iat_std',\n",
    "            'fwd_packets_s',\n",
    "            'down_up_ratio',\n",
    "            'total_fwd_packets',\n",
    "            'bwd_packet_length_min',\n",
    "            'flow_bytes_s',\n",
    "            'bwd_header_length',\n",
    "            'packet_length_mean',\n",
    "            'total_length_of_bwd_packets']"
   ]
  },
  {
   "cell_type": "code",
   "execution_count": 11,
   "metadata": {},
   "outputs": [],
   "source": [
    "X_train, y_train = df_train.splitTo_X_Y(feature_columns = selected_features, target_columns = ['label'])"
   ]
  },
  {
   "cell_type": "code",
   "execution_count": 12,
   "metadata": {},
   "outputs": [
    {
     "name": "stdout",
     "output_type": "stream",
     "text": [
      "(1765609, 24)\n",
      "(1765609, 1)\n"
     ]
    }
   ],
   "source": [
    "print(X_train.shape)\n",
    "print(y_train.shape)"
   ]
  },
  {
   "cell_type": "code",
   "execution_count": 13,
   "metadata": {},
   "outputs": [],
   "source": [
    "X_test, y_test = df_test.splitTo_X_Y(feature_columns = selected_features, target_columns = ['label'])"
   ]
  },
  {
   "cell_type": "code",
   "execution_count": 14,
   "metadata": {},
   "outputs": [
    {
     "name": "stdout",
     "output_type": "stream",
     "text": [
      "(756690, 24)\n",
      "(756690, 1)\n"
     ]
    }
   ],
   "source": [
    "print(X_test.shape)\n",
    "print(y_test.shape)"
   ]
  },
  {
   "cell_type": "code",
   "execution_count": 15,
   "metadata": {},
   "outputs": [],
   "source": [
    "X_train = scaler.fit_transform(X_train)\n",
    "X_test = scaler.transform(X_test)"
   ]
  },
  {
   "cell_type": "code",
   "execution_count": 16,
   "metadata": {},
   "outputs": [
    {
     "data": {
      "text/plain": [
       "0"
      ]
     },
     "execution_count": 16,
     "metadata": {},
     "output_type": "execute_result"
    }
   ],
   "source": [
    "del df_train, df_test\n",
    "gc.collect()"
   ]
  },
  {
   "cell_type": "markdown",
   "metadata": {},
   "source": [
    "## AutoEncoder"
   ]
  },
  {
   "cell_type": "code",
   "execution_count": 19,
   "metadata": {},
   "outputs": [],
   "source": [
    "class PrecisionRecallCallback(Callback):\n",
    "    def __init__(self, X_val, y_val):\n",
    "        super().__init__()\n",
    "        self.X_val = X_val\n",
    "        self.y_val = y_val\n",
    "\n",
    "    def on_epoch_end(self, epoch, logs=None):\n",
    "        y_pred_prob = self.model.predict(self.X_val)\n",
    "        y_pred_binary = (y_pred_prob > 0.5).astype(int)\n",
    "\n",
    "        precision = precision_score(self.y_val, y_pred_binary)\n",
    "        recall = recall_score(self.y_val, y_pred_binary)\n",
    "        \n",
    "        val_loss, val_accuracy = self.model.evaluate(self.X_val, self.y_val, verbose=0)\n",
    "\n",
    "        logs['val_loss'] = val_loss\n",
    "        logs['val_accuracy'] = val_accuracy\n",
    "        logs[\"val_precision\"] = precision\n",
    "        logs[\"val_recall\"] = recall\n",
    "\n",
    "        print(f\"val_loss: {val_loss} -- val_accuracy: {val_accuracy} -- val_precision: {precision} -- val_recall: {recall}\")"
   ]
  },
  {
   "cell_type": "code",
   "execution_count": 20,
   "metadata": {},
   "outputs": [],
   "source": [
    "# class PrecisionRecallCallback(Callback):\n",
    "#     def __init__(self, X_val, y_val):\n",
    "#         super().__init__()\n",
    "#         self.X_val = X_val\n",
    "#         self.y_val = y_val\n",
    "\n",
    "#     def on_epoch_end(self, epoch, logs=None):\n",
    "#         y_pred_prob = self.model.predict(self.X_val)\n",
    "#         y_pred_classes = tf.argmax(y_pred_prob, axis=-1)\n",
    "        \n",
    "#         precision_per_class = precision_score(self.y_val, y_pred_classes, average=None)\n",
    "#         recall_per_class = recall_score(self.y_val, y_pred_classes, average=None)\n",
    "\n",
    "#         for i, (precision, recall) in enumerate(zip(precision_per_class, recall_per_class)):\n",
    "#             logs[f'val_precision_class_{i}'] = precision\n",
    "#             logs[f'val_recall_class_{i}'] = recall\n",
    "\n",
    "#             print(f'val_precision_class_{i}: {precision}, val_recall_class_{i}: {recall}')"
   ]
  },
  {
   "cell_type": "code",
   "execution_count": null,
   "metadata": {},
   "outputs": [],
   "source": [
    "checkpoint = ModelCheckpoint(model_save_path, \n",
    "                             monitor = 'val_accuracy', verbose = 1, \n",
    "                             save_best_only = True, mode = 'min')\n",
    "    \n",
    "    early_stop_callback = EarlyStopping(monitor = 'val_accuracy', patience = 5)\n",
    "    \n",
    "    input_dim = X_train.shape[1]\n",
    "    model = Sequential([\n",
    "        # encode\n",
    "        Dense(input_dim, activation = 'relu', input_shape = (input_dim, )),\n",
    "        \n",
    "        Dense(512, activation = 'relu'),\n",
    "        Dense(256, activation = 'relu'),\n",
    "        Dense(128, activation = 'relu'),\n",
    "        Dropout(0.5),\n",
    "        Dense(64, activation = 'relu'),\n",
    "        Dense(32, activation = 'relu'),\n",
    "        Dropout(0.2),\n",
    "        Dense(16, activation = 'relu'),\n",
    "        # Dropout(0.2),\n",
    "        \n",
    "        # classifier\n",
    "        # Dense(len(y_test['label'].unique()), activation = 'softmax'),\n",
    "        \n",
    "        # decode\n",
    "        # Dense(16, activation = 'relu'),\n",
    "        Dense(32, activation = 'relu'),\n",
    "        Dense(64, activation = 'relu'),\n",
    "        Dense(128, activation = 'relu'),\n",
    "        Dense(256, activation = 'relu'),\n",
    "        Dense(512, activation = 'relu'), \n",
    "        Dropout(0.2),\n",
    "        \n",
    "        Dense(input_dim, activation = 'relu')    \n",
    "    ])\n",
    "    \n",
    "    print(model.summary())\n",
    "    \n",
    "    model.compile(\n",
    "        loss = \"mae\", # mae\n",
    "        optimizer = Adam(learning_rate = 0.0001),\n",
    "        metrics = [\"accuracy\"]\n",
    "    )\n",
    "    \n",
    "    hist = model.fit(X_train, y_train,\n",
    "                epochs = 200, batch_size = 32, \n",
    "                validation_data = (X_test, y_test),\n",
    "                callbacks = [checkpoint, early_stop_callback])"
   ]
  },
  {
   "cell_type": "code",
   "execution_count": 24,
   "metadata": {},
   "outputs": [
    {
     "name": "stdout",
     "output_type": "stream",
     "text": [
      "Epoch 1/200\n",
      "55172/55176 [============================>.] - ETA: 0s - loss: 0.4912 - accuracy: 0.8311\n",
      "Epoch 1: val_accuracy improved from inf to 0.83090, saving model to ./checkpoint\\autoencoder_weights.keras\n",
      "55176/55176 [==============================] - 488s 9ms/step - loss: 0.4912 - accuracy: 0.8311 - val_loss: 0.4931 - val_accuracy: 0.8309\n",
      "Epoch 2/200\n",
      "55172/55176 [============================>.] - ETA: 0s - loss: 0.4912 - accuracy: 0.8313\n",
      "Epoch 2: val_accuracy did not improve from 0.83090\n",
      "55176/55176 [==============================] - 502s 9ms/step - loss: 0.4912 - accuracy: 0.8313 - val_loss: 0.4931 - val_accuracy: 0.8309\n",
      "Epoch 3/200\n",
      "55171/55176 [============================>.] - ETA: 0s - loss: 0.4912 - accuracy: 0.8313\n",
      "Epoch 3: val_accuracy did not improve from 0.83090\n",
      "55176/55176 [==============================] - 533s 10ms/step - loss: 0.4912 - accuracy: 0.8313 - val_loss: 0.4931 - val_accuracy: 0.8309\n",
      "Epoch 4/200\n",
      "55172/55176 [============================>.] - ETA: 0s - loss: 0.4912 - accuracy: 0.8313\n",
      "Epoch 4: val_accuracy did not improve from 0.83090\n",
      "55176/55176 [==============================] - 514s 9ms/step - loss: 0.4912 - accuracy: 0.8313 - val_loss: 0.4931 - val_accuracy: 0.8309\n",
      "Epoch 5/200\n",
      "55171/55176 [============================>.] - ETA: 0s - loss: 0.4912 - accuracy: 0.8313\n",
      "Epoch 5: val_accuracy did not improve from 0.83090\n",
      "55176/55176 [==============================] - 516s 9ms/step - loss: 0.4912 - accuracy: 0.8313 - val_loss: 0.4931 - val_accuracy: 0.8309\n",
      "Epoch 6/200\n",
      "55174/55176 [============================>.] - ETA: 0s - loss: 0.4912 - accuracy: 0.8313\n",
      "Epoch 6: val_accuracy did not improve from 0.83090\n",
      "55176/55176 [==============================] - 548s 10ms/step - loss: 0.4912 - accuracy: 0.8313 - val_loss: 0.4931 - val_accuracy: 0.8309\n"
     ]
    }
   ],
   "source": [
    "hist = model.fit(X_train, y_train,\n",
    "                epochs = 200, batch_size = 32, \n",
    "                validation_data = (X_test, y_test),\n",
    "                callbacks = [checkpoint, early_stop_callback])"
   ]
  },
  {
   "cell_type": "code",
   "execution_count": 25,
   "metadata": {},
   "outputs": [
    {
     "data": {
      "image/png": "[encoded data removed]",
      "text/plain": [
       "<Figure size 640x480 with 1 Axes>"
      ]
     },
     "metadata": {},
     "output_type": "display_data"
    }
   ],
   "source": [
    "import matplotlib.pyplot as plt\n",
    "\n",
    "plt.plot(hist.history['accuracy'], label = 'Training Accuracy')\n",
    "plt.plot(hist.history['val_accuracy'], label = 'Validation Accuracy')\n",
    "plt.xlabel('Epoch')\n",
    "plt.ylabel('Accuracy')\n",
    "plt.legend()\n",
    "plt.show()"
   ]
  },
  {
   "cell_type": "code",
   "execution_count": 27,
   "metadata": {},
   "outputs": [
    {
     "name": "stdout",
     "output_type": "stream",
     "text": [
      "23647/23647 [==============================] - 61s 3ms/step\n"
     ]
    }
   ],
   "source": [
    "decoded_data = model.predict(X_test)"
   ]
  },
  {
   "cell_type": "code",
   "execution_count": 45,
   "metadata": {},
   "outputs": [
    {
     "name": "stdout",
     "output_type": "stream",
     "text": [
      "Precision: 1.0000\n",
      "Recall: 0.6382\n"
     ]
    },
    {
     "name": "stderr",
     "output_type": "stream",
     "text": [
      "c:\\Users\\avart\\AppData\\Local\\Programs\\Python\\Python310\\lib\\site-packages\\sklearn\\metrics\\_classification.py:1469: UndefinedMetricWarning: Recall is ill-defined and being set to 0.0 in labels with no true samples. Use `zero_division` parameter to control this behavior.\n",
      "  _warn_prf(average, modifier, msg_start, len(result))\n"
     ]
    }
   ],
   "source": [
    "# loss = np.mean(np.square(X_test - decoded_data), axis=1) # mse\n",
    "loss = np.mean(np.abs(X_test - decoded_data), axis=1) # mae\n",
    "\n",
    "threshold = 0.5\n",
    "binary_predictions = (loss > threshold).astype(int)\n",
    "\n",
    "true_labels_indices = np.argmax(y_test, axis=1)\n",
    "\n",
    "precision = precision_score(true_labels_indices, binary_predictions, average = 'weighted')\n",
    "recall = recall_score(true_labels_indices, binary_predictions, average = 'weighted')\n",
    "\n",
    "print(f'Precision: {precision:.4f}')\n",
    "print(f'Recall: {recall:.4f}')"
   ]
  },
  {
   "cell_type": "markdown",
   "metadata": {},
   "source": [
    "## With sampling"
   ]
  },
  {
   "cell_type": "code",
   "execution_count": 7,
   "metadata": {},
   "outputs": [],
   "source": [
    "df_train = LoadDataset(\"./oversampling/NRAS_trainset.csv\")\n",
    "df_test = LoadDataset(\"./raw/raw_testset.csv\")"
   ]
  },
  {
   "cell_type": "code",
   "execution_count": 8,
   "metadata": {},
   "outputs": [
    {
     "data": {
      "text/plain": [
       "(9539966, 70)"
      ]
     },
     "execution_count": 8,
     "metadata": {},
     "output_type": "execute_result"
    }
   ],
   "source": [
    "df_train.shape"
   ]
  },
  {
   "cell_type": "code",
   "execution_count": 11,
   "metadata": {},
   "outputs": [
    {
     "data": {
      "text/plain": [
       "(756690, 69)"
      ]
     },
     "execution_count": 11,
     "metadata": {},
     "output_type": "execute_result"
    }
   ],
   "source": [
    "df_test.shape"
   ]
  },
  {
   "cell_type": "code",
   "execution_count": 11,
   "metadata": {},
   "outputs": [],
   "source": [
    "X_train, y_train, scaler = df_train.splitTo_X_Y(feature_columns = selected_features, target_columns = ['label'], \n",
    "                                                scaler = scaler, scale_type = \"fit_transform\")"
   ]
  },
  {
   "cell_type": "code",
   "execution_count": 12,
   "metadata": {},
   "outputs": [],
   "source": [
    "X_test, y_test, scaler = df_test.splitTo_X_Y(feature_columns = selected_features, target_columns = ['label'], \n",
    "                                                scaler = scaler, scale_type = \"transform\")"
   ]
  },
  {
   "cell_type": "code",
   "execution_count": 13,
   "metadata": {},
   "outputs": [
    {
     "data": {
      "text/plain": [
       "array([[0.9844774 , 0.6544154 , 0.43315274, ..., 0.16966696, 0.34843484,\n",
       "        0.31763175],\n",
       "       [0.5869087 , 0.7132713 , 0.8349335 , ..., 0.7986299 , 0.5147015 ,\n",
       "        0.6461105 ],\n",
       "       [0.96617085, 0.7149215 , 0.45328572, ..., 0.2677768 , 0.        ,\n",
       "        0.        ],\n",
       "       ...,\n",
       "       [0.70822084, 0.48819882, 0.13311331, ..., 0.9531189 , 0.9659966 ,\n",
       "        0.9905586 ],\n",
       "       [0.70822084, 0.7033554 , 0.39931998, ..., 0.93100464, 0.98829883,\n",
       "        0.9220422 ],\n",
       "       [0.70822084, 0.48819882, 0.13311331, ..., 0.95110595, 0.9659966 ,\n",
       "        0.99711084]], dtype=float32)"
      ]
     },
     "execution_count": 13,
     "metadata": {},
     "output_type": "execute_result"
    }
   ],
   "source": [
    "X_train"
   ]
  },
  {
   "cell_type": "code",
   "execution_count": 14,
   "metadata": {},
   "outputs": [
    {
     "data": {
      "text/plain": [
       "array([[0.91719941, 0.9730473 , 0.61361136, ..., 0.32768277, 0.        ,\n",
       "        0.        ],\n",
       "       [0.1840184 , 0.        , 0.        , ..., 0.59910991, 0.46269627,\n",
       "        0.54255426],\n",
       "       [0.1840184 , 0.        , 0.        , ..., 0.59910991, 0.6629663 ,\n",
       "        0.68741874],\n",
       "       ...,\n",
       "       [0.83333333, 0.78582858, 0.76872687, ..., 0.6610161 , 0.35283528,\n",
       "        0.4689969 ],\n",
       "       [0.47039704, 0.8960396 , 0.89673967, ..., 0.90274027, 0.71539654,\n",
       "        0.76109278],\n",
       "       [0.95780134, 0.        , 0.68826883, ..., 0.        , 0.30888089,\n",
       "        0.        ]])"
      ]
     },
     "execution_count": 14,
     "metadata": {},
     "output_type": "execute_result"
    }
   ],
   "source": [
    "X_test"
   ]
  },
  {
   "cell_type": "code",
   "execution_count": 219,
   "metadata": {},
   "outputs": [],
   "source": [
    "checkpoint = ModelCheckpoint(\"./checkpoint/autoencoder_weights_sampling.keras\", \n",
    "                             monitor = 'val_accuracy', verbose = 1, \n",
    "                             save_best_only = True, mode = 'min')\n",
    "    \n",
    "early_stop_callback = EarlyStopping(monitor = 'val_accuracy', patience = 5)\n",
    "\n",
    "input_dim = X_train.shape[1]\n",
    "model = Sequential([\n",
    "    # encode\n",
    "    Dense(input_dim, activation = 'elu', input_shape = (input_dim, )),\n",
    "    \n",
    "    # Dense(1024, activation = 'elu'),\n",
    "    Dense(512, activation = 'elu'),\n",
    "    # Dropout(0.3),\n",
    "    Dense(256, activation = 'elu'),\n",
    "    # Dropout(0.3),\n",
    "    Dense(128, activation = 'elu'),\n",
    "    # Dropout(0.3),\n",
    "    Dense(64, activation = 'elu'),\n",
    "    # Dropout(0.3),\n",
    "    Dense(32, activation = 'elu'),\n",
    "    # Dropout(0.5),\n",
    "    # Dense(16, activation = 'elu'),\n",
    "    # Dropout(0.2),\n",
    "    \n",
    "    # classifier\n",
    "    Dense(len(y_test['label'].unique()), activation = 'elu'),\n",
    "    # Dense(16, activation = 'elu'),\n",
    "    \n",
    "    # decode\n",
    "    Dense(32, activation = 'elu'),\n",
    "    Dense(64, activation = 'elu'),\n",
    "    Dense(128, activation = 'elu'),\n",
    "    Dense(256, activation = 'elu'),\n",
    "    # Dropout(0.3),\n",
    "    Dense(512, activation = 'elu'), \n",
    "    # Dense(1024, activation = 'elu'),\n",
    "    # Dropout(0.2),\n",
    "    \n",
    "    Dense(input_dim, activation = 'elu')    \n",
    "])\n",
    "\n",
    "model.compile(\n",
    "    loss = \"sparse_categorical_crossentropy\", # , mae\n",
    "    optimizer = Adam(learning_rate = 0.0001),\n",
    "    metrics = [\"accuracy\"]\n",
    ")\n",
    "\n"
   ]
  },
  {
   "cell_type": "code",
   "execution_count": 220,
   "metadata": {},
   "outputs": [
    {
     "name": "stdout",
     "output_type": "stream",
     "text": [
      "Epoch 1/200\n",
      "298122/298124 [============================>.] - ETA: 0s - loss: 3.1847 - accuracy: 0.1000\n",
      "Epoch 1: val_accuracy improved from inf to 0.00001, saving model to ./checkpoint\\autoencoder_weights_sampling.keras\n",
      "298124/298124 [==============================] - 5481s 18ms/step - loss: 3.1847 - accuracy: 0.1000 - val_loss: 3.1789 - val_accuracy: 1.4537e-05\n",
      "Epoch 2/200\n",
      "298123/298124 [============================>.] - ETA: 0s - loss: 3.1842 - accuracy: 0.1000\n",
      "Epoch 2: val_accuracy did not improve from 0.00001\n",
      "298124/298124 [==============================] - 2177s 7ms/step - loss: 3.1842 - accuracy: 0.1000 - val_loss: 3.1789 - val_accuracy: 1.4537e-05\n",
      "Epoch 3/200\n",
      "175479/298124 [================>.............] - ETA: 17:22 - loss: 3.1819 - accuracy: 0.0999"
     ]
    },
    {
     "ename": "KeyboardInterrupt",
     "evalue": "",
     "output_type": "error",
     "traceback": [
      "\u001b[1;31m---------------------------------------------------------------------------\u001b[0m",
      "\u001b[1;31mKeyboardInterrupt\u001b[0m                         Traceback (most recent call last)",
      "\u001b[1;32md:\\dataset\\_13_AutoEncoder.ipynb Cell 35\u001b[0m line \u001b[0;36m1\n\u001b[1;32m----> <a href='vscode-notebook-cell:/d%3A/dataset/_13_AutoEncoder.ipynb#X62sZmlsZQ%3D%3D?line=0'>1</a>\u001b[0m hist \u001b[39m=\u001b[39m model\u001b[39m.\u001b[39;49mfit(X_train, y_train,\n\u001b[0;32m      <a href='vscode-notebook-cell:/d%3A/dataset/_13_AutoEncoder.ipynb#X62sZmlsZQ%3D%3D?line=1'>2</a>\u001b[0m             epochs \u001b[39m=\u001b[39;49m \u001b[39m200\u001b[39;49m, batch_size \u001b[39m=\u001b[39;49m \u001b[39m32\u001b[39;49m, \n\u001b[0;32m      <a href='vscode-notebook-cell:/d%3A/dataset/_13_AutoEncoder.ipynb#X62sZmlsZQ%3D%3D?line=2'>3</a>\u001b[0m             validation_data \u001b[39m=\u001b[39;49m (X_test, y_test),\n\u001b[0;32m      <a href='vscode-notebook-cell:/d%3A/dataset/_13_AutoEncoder.ipynb#X62sZmlsZQ%3D%3D?line=3'>4</a>\u001b[0m             callbacks \u001b[39m=\u001b[39;49m [checkpoint, early_stop_callback])\n",
      "File \u001b[1;32mc:\\Users\\avart\\AppData\\Local\\Programs\\Python\\Python310\\lib\\site-packages\\keras\\utils\\traceback_utils.py:65\u001b[0m, in \u001b[0;36mfilter_traceback.<locals>.error_handler\u001b[1;34m(*args, **kwargs)\u001b[0m\n\u001b[0;32m     63\u001b[0m filtered_tb \u001b[39m=\u001b[39m \u001b[39mNone\u001b[39;00m\n\u001b[0;32m     64\u001b[0m \u001b[39mtry\u001b[39;00m:\n\u001b[1;32m---> 65\u001b[0m     \u001b[39mreturn\u001b[39;00m fn(\u001b[39m*\u001b[39margs, \u001b[39m*\u001b[39m\u001b[39m*\u001b[39mkwargs)\n\u001b[0;32m     66\u001b[0m \u001b[39mexcept\u001b[39;00m \u001b[39mException\u001b[39;00m \u001b[39mas\u001b[39;00m e:\n\u001b[0;32m     67\u001b[0m     filtered_tb \u001b[39m=\u001b[39m _process_traceback_frames(e\u001b[39m.\u001b[39m__traceback__)\n",
      "File \u001b[1;32mc:\\Users\\avart\\AppData\\Local\\Programs\\Python\\Python310\\lib\\site-packages\\keras\\engine\\training.py:1564\u001b[0m, in \u001b[0;36mModel.fit\u001b[1;34m(self, x, y, batch_size, epochs, verbose, callbacks, validation_split, validation_data, shuffle, class_weight, sample_weight, initial_epoch, steps_per_epoch, validation_steps, validation_batch_size, validation_freq, max_queue_size, workers, use_multiprocessing)\u001b[0m\n\u001b[0;32m   1556\u001b[0m \u001b[39mwith\u001b[39;00m tf\u001b[39m.\u001b[39mprofiler\u001b[39m.\u001b[39mexperimental\u001b[39m.\u001b[39mTrace(\n\u001b[0;32m   1557\u001b[0m     \u001b[39m\"\u001b[39m\u001b[39mtrain\u001b[39m\u001b[39m\"\u001b[39m,\n\u001b[0;32m   1558\u001b[0m     epoch_num\u001b[39m=\u001b[39mepoch,\n\u001b[1;32m   (...)\u001b[0m\n\u001b[0;32m   1561\u001b[0m     _r\u001b[39m=\u001b[39m\u001b[39m1\u001b[39m,\n\u001b[0;32m   1562\u001b[0m ):\n\u001b[0;32m   1563\u001b[0m     callbacks\u001b[39m.\u001b[39mon_train_batch_begin(step)\n\u001b[1;32m-> 1564\u001b[0m     tmp_logs \u001b[39m=\u001b[39m \u001b[39mself\u001b[39;49m\u001b[39m.\u001b[39;49mtrain_function(iterator)\n\u001b[0;32m   1565\u001b[0m     \u001b[39mif\u001b[39;00m data_handler\u001b[39m.\u001b[39mshould_sync:\n\u001b[0;32m   1566\u001b[0m         context\u001b[39m.\u001b[39masync_wait()\n",
      "File \u001b[1;32mc:\\Users\\avart\\AppData\\Local\\Programs\\Python\\Python310\\lib\\site-packages\\tensorflow\\python\\util\\traceback_utils.py:150\u001b[0m, in \u001b[0;36mfilter_traceback.<locals>.error_handler\u001b[1;34m(*args, **kwargs)\u001b[0m\n\u001b[0;32m    148\u001b[0m filtered_tb \u001b[39m=\u001b[39m \u001b[39mNone\u001b[39;00m\n\u001b[0;32m    149\u001b[0m \u001b[39mtry\u001b[39;00m:\n\u001b[1;32m--> 150\u001b[0m   \u001b[39mreturn\u001b[39;00m fn(\u001b[39m*\u001b[39margs, \u001b[39m*\u001b[39m\u001b[39m*\u001b[39mkwargs)\n\u001b[0;32m    151\u001b[0m \u001b[39mexcept\u001b[39;00m \u001b[39mException\u001b[39;00m \u001b[39mas\u001b[39;00m e:\n\u001b[0;32m    152\u001b[0m   filtered_tb \u001b[39m=\u001b[39m _process_traceback_frames(e\u001b[39m.\u001b[39m__traceback__)\n",
      "File \u001b[1;32mc:\\Users\\avart\\AppData\\Local\\Programs\\Python\\Python310\\lib\\site-packages\\tensorflow\\python\\eager\\def_function.py:915\u001b[0m, in \u001b[0;36mFunction.__call__\u001b[1;34m(self, *args, **kwds)\u001b[0m\n\u001b[0;32m    912\u001b[0m compiler \u001b[39m=\u001b[39m \u001b[39m\"\u001b[39m\u001b[39mxla\u001b[39m\u001b[39m\"\u001b[39m \u001b[39mif\u001b[39;00m \u001b[39mself\u001b[39m\u001b[39m.\u001b[39m_jit_compile \u001b[39melse\u001b[39;00m \u001b[39m\"\u001b[39m\u001b[39mnonXla\u001b[39m\u001b[39m\"\u001b[39m\n\u001b[0;32m    914\u001b[0m \u001b[39mwith\u001b[39;00m OptionalXlaContext(\u001b[39mself\u001b[39m\u001b[39m.\u001b[39m_jit_compile):\n\u001b[1;32m--> 915\u001b[0m   result \u001b[39m=\u001b[39m \u001b[39mself\u001b[39m\u001b[39m.\u001b[39m_call(\u001b[39m*\u001b[39margs, \u001b[39m*\u001b[39m\u001b[39m*\u001b[39mkwds)\n\u001b[0;32m    917\u001b[0m new_tracing_count \u001b[39m=\u001b[39m \u001b[39mself\u001b[39m\u001b[39m.\u001b[39mexperimental_get_tracing_count()\n\u001b[0;32m    918\u001b[0m without_tracing \u001b[39m=\u001b[39m (tracing_count \u001b[39m==\u001b[39m new_tracing_count)\n",
      "File \u001b[1;32mc:\\Users\\avart\\AppData\\Local\\Programs\\Python\\Python310\\lib\\site-packages\\tensorflow\\python\\eager\\def_function.py:947\u001b[0m, in \u001b[0;36mFunction._call\u001b[1;34m(self, *args, **kwds)\u001b[0m\n\u001b[0;32m    944\u001b[0m   \u001b[39mself\u001b[39m\u001b[39m.\u001b[39m_lock\u001b[39m.\u001b[39mrelease()\n\u001b[0;32m    945\u001b[0m   \u001b[39m# In this case we have created variables on the first call, so we run the\u001b[39;00m\n\u001b[0;32m    946\u001b[0m   \u001b[39m# defunned version which is guaranteed to never create variables.\u001b[39;00m\n\u001b[1;32m--> 947\u001b[0m   \u001b[39mreturn\u001b[39;00m \u001b[39mself\u001b[39m\u001b[39m.\u001b[39m_stateless_fn(\u001b[39m*\u001b[39margs, \u001b[39m*\u001b[39m\u001b[39m*\u001b[39mkwds)  \u001b[39m# pylint: disable=not-callable\u001b[39;00m\n\u001b[0;32m    948\u001b[0m \u001b[39melif\u001b[39;00m \u001b[39mself\u001b[39m\u001b[39m.\u001b[39m_stateful_fn \u001b[39mis\u001b[39;00m \u001b[39mnot\u001b[39;00m \u001b[39mNone\u001b[39;00m:\n\u001b[0;32m    949\u001b[0m   \u001b[39m# Release the lock early so that multiple threads can perform the call\u001b[39;00m\n\u001b[0;32m    950\u001b[0m   \u001b[39m# in parallel.\u001b[39;00m\n\u001b[0;32m    951\u001b[0m   \u001b[39mself\u001b[39m\u001b[39m.\u001b[39m_lock\u001b[39m.\u001b[39mrelease()\n",
      "File \u001b[1;32mc:\\Users\\avart\\AppData\\Local\\Programs\\Python\\Python310\\lib\\site-packages\\tensorflow\\python\\eager\\function.py:2496\u001b[0m, in \u001b[0;36mFunction.__call__\u001b[1;34m(self, *args, **kwargs)\u001b[0m\n\u001b[0;32m   2493\u001b[0m \u001b[39mwith\u001b[39;00m \u001b[39mself\u001b[39m\u001b[39m.\u001b[39m_lock:\n\u001b[0;32m   2494\u001b[0m   (graph_function,\n\u001b[0;32m   2495\u001b[0m    filtered_flat_args) \u001b[39m=\u001b[39m \u001b[39mself\u001b[39m\u001b[39m.\u001b[39m_maybe_define_function(args, kwargs)\n\u001b[1;32m-> 2496\u001b[0m \u001b[39mreturn\u001b[39;00m graph_function\u001b[39m.\u001b[39;49m_call_flat(\n\u001b[0;32m   2497\u001b[0m     filtered_flat_args, captured_inputs\u001b[39m=\u001b[39;49mgraph_function\u001b[39m.\u001b[39;49mcaptured_inputs)\n",
      "File \u001b[1;32mc:\\Users\\avart\\AppData\\Local\\Programs\\Python\\Python310\\lib\\site-packages\\tensorflow\\python\\eager\\function.py:1862\u001b[0m, in \u001b[0;36mConcreteFunction._call_flat\u001b[1;34m(self, args, captured_inputs, cancellation_manager)\u001b[0m\n\u001b[0;32m   1858\u001b[0m possible_gradient_type \u001b[39m=\u001b[39m gradients_util\u001b[39m.\u001b[39mPossibleTapeGradientTypes(args)\n\u001b[0;32m   1859\u001b[0m \u001b[39mif\u001b[39;00m (possible_gradient_type \u001b[39m==\u001b[39m gradients_util\u001b[39m.\u001b[39mPOSSIBLE_GRADIENT_TYPES_NONE\n\u001b[0;32m   1860\u001b[0m     \u001b[39mand\u001b[39;00m executing_eagerly):\n\u001b[0;32m   1861\u001b[0m   \u001b[39m# No tape is watching; skip to running the function.\u001b[39;00m\n\u001b[1;32m-> 1862\u001b[0m   \u001b[39mreturn\u001b[39;00m \u001b[39mself\u001b[39m\u001b[39m.\u001b[39m_build_call_outputs(\u001b[39mself\u001b[39;49m\u001b[39m.\u001b[39;49m_inference_function\u001b[39m.\u001b[39;49mcall(\n\u001b[0;32m   1863\u001b[0m       ctx, args, cancellation_manager\u001b[39m=\u001b[39;49mcancellation_manager))\n\u001b[0;32m   1864\u001b[0m forward_backward \u001b[39m=\u001b[39m \u001b[39mself\u001b[39m\u001b[39m.\u001b[39m_select_forward_and_backward_functions(\n\u001b[0;32m   1865\u001b[0m     args,\n\u001b[0;32m   1866\u001b[0m     possible_gradient_type,\n\u001b[0;32m   1867\u001b[0m     executing_eagerly)\n\u001b[0;32m   1868\u001b[0m forward_function, args_with_tangents \u001b[39m=\u001b[39m forward_backward\u001b[39m.\u001b[39mforward()\n",
      "File \u001b[1;32mc:\\Users\\avart\\AppData\\Local\\Programs\\Python\\Python310\\lib\\site-packages\\tensorflow\\python\\eager\\function.py:499\u001b[0m, in \u001b[0;36m_EagerDefinedFunction.call\u001b[1;34m(self, ctx, args, cancellation_manager)\u001b[0m\n\u001b[0;32m    497\u001b[0m \u001b[39mwith\u001b[39;00m _InterpolateFunctionError(\u001b[39mself\u001b[39m):\n\u001b[0;32m    498\u001b[0m   \u001b[39mif\u001b[39;00m cancellation_manager \u001b[39mis\u001b[39;00m \u001b[39mNone\u001b[39;00m:\n\u001b[1;32m--> 499\u001b[0m     outputs \u001b[39m=\u001b[39m execute\u001b[39m.\u001b[39;49mexecute(\n\u001b[0;32m    500\u001b[0m         \u001b[39mstr\u001b[39;49m(\u001b[39mself\u001b[39;49m\u001b[39m.\u001b[39;49msignature\u001b[39m.\u001b[39;49mname),\n\u001b[0;32m    501\u001b[0m         num_outputs\u001b[39m=\u001b[39;49m\u001b[39mself\u001b[39;49m\u001b[39m.\u001b[39;49m_num_outputs,\n\u001b[0;32m    502\u001b[0m         inputs\u001b[39m=\u001b[39;49margs,\n\u001b[0;32m    503\u001b[0m         attrs\u001b[39m=\u001b[39;49mattrs,\n\u001b[0;32m    504\u001b[0m         ctx\u001b[39m=\u001b[39;49mctx)\n\u001b[0;32m    505\u001b[0m   \u001b[39melse\u001b[39;00m:\n\u001b[0;32m    506\u001b[0m     outputs \u001b[39m=\u001b[39m execute\u001b[39m.\u001b[39mexecute_with_cancellation(\n\u001b[0;32m    507\u001b[0m         \u001b[39mstr\u001b[39m(\u001b[39mself\u001b[39m\u001b[39m.\u001b[39msignature\u001b[39m.\u001b[39mname),\n\u001b[0;32m    508\u001b[0m         num_outputs\u001b[39m=\u001b[39m\u001b[39mself\u001b[39m\u001b[39m.\u001b[39m_num_outputs,\n\u001b[1;32m   (...)\u001b[0m\n\u001b[0;32m    511\u001b[0m         ctx\u001b[39m=\u001b[39mctx,\n\u001b[0;32m    512\u001b[0m         cancellation_manager\u001b[39m=\u001b[39mcancellation_manager)\n",
      "File \u001b[1;32mc:\\Users\\avart\\AppData\\Local\\Programs\\Python\\Python310\\lib\\site-packages\\tensorflow\\python\\eager\\execute.py:54\u001b[0m, in \u001b[0;36mquick_execute\u001b[1;34m(op_name, num_outputs, inputs, attrs, ctx, name)\u001b[0m\n\u001b[0;32m     52\u001b[0m \u001b[39mtry\u001b[39;00m:\n\u001b[0;32m     53\u001b[0m   ctx\u001b[39m.\u001b[39mensure_initialized()\n\u001b[1;32m---> 54\u001b[0m   tensors \u001b[39m=\u001b[39m pywrap_tfe\u001b[39m.\u001b[39;49mTFE_Py_Execute(ctx\u001b[39m.\u001b[39;49m_handle, device_name, op_name,\n\u001b[0;32m     55\u001b[0m                                       inputs, attrs, num_outputs)\n\u001b[0;32m     56\u001b[0m \u001b[39mexcept\u001b[39;00m core\u001b[39m.\u001b[39m_NotOkStatusException \u001b[39mas\u001b[39;00m e:\n\u001b[0;32m     57\u001b[0m   \u001b[39mif\u001b[39;00m name \u001b[39mis\u001b[39;00m \u001b[39mnot\u001b[39;00m \u001b[39mNone\u001b[39;00m:\n",
      "\u001b[1;31mKeyboardInterrupt\u001b[0m: "
     ]
    }
   ],
   "source": [
    "hist = model.fit(X_train, y_train,\n",
    "            epochs = 200, batch_size = 32, \n",
    "            validation_data = (X_test, y_test),\n",
    "            callbacks = [checkpoint, early_stop_callback])"
   ]
  },
  {
   "cell_type": "code",
   "execution_count": 218,
   "metadata": {},
   "outputs": [
    {
     "data": {
      "text/plain": [
       "5770"
      ]
     },
     "execution_count": 218,
     "metadata": {},
     "output_type": "execute_result"
    }
   ],
   "source": [
    "%reset_selective -f model\n",
    "gc.collect()"
   ]
  }
 ],
 "metadata": {
  "kernelspec": {
   "display_name": "Python 3",
   "language": "python",
   "name": "python3"
  },
  "language_info": {
   "codemirror_mode": {
    "name": "ipython",
    "version": 3
   },
   "file_extension": ".py",
   "mimetype": "text/x-python",
   "name": "python",
   "nbconvert_exporter": "python",
   "pygments_lexer": "ipython3",
   "version": "3.10.11"
  }
 },
 "nbformat": 4,
 "nbformat_minor": 2
}
